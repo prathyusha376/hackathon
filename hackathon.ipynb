{
 "cells": [
  {
   "cell_type": "code",
   "execution_count": 6,
   "id": "e8575a65-aa80-4b3c-b372-07126159b6c3",
   "metadata": {},
   "outputs": [],
   "source": [
    "import pandas as pd\n",
    "import numpy as np"
   ]
  },
  {
   "cell_type": "code",
   "execution_count": 2,
   "id": "dae1a52c-e42c-457b-844a-0bfcdfbf6e8e",
   "metadata": {},
   "outputs": [],
   "source": [
    "df=pd.read_csv(r\"C:\\Users\\PSJKKIRAN\\Downloads\\zomato_data.csv\")"
   ]
  },
  {
   "cell_type": "code",
   "execution_count": 3,
   "id": "f0debd35-8c43-4cbe-bdbd-80cf85871558",
   "metadata": {},
   "outputs": [
    {
     "data": {
      "text/html": [
       "<div>\n",
       "<style scoped>\n",
       "    .dataframe tbody tr th:only-of-type {\n",
       "        vertical-align: middle;\n",
       "    }\n",
       "\n",
       "    .dataframe tbody tr th {\n",
       "        vertical-align: top;\n",
       "    }\n",
       "\n",
       "    .dataframe thead th {\n",
       "        text-align: right;\n",
       "    }\n",
       "</style>\n",
       "<table border=\"1\" class=\"dataframe\">\n",
       "  <thead>\n",
       "    <tr style=\"text-align: right;\">\n",
       "      <th></th>\n",
       "      <th>online_order</th>\n",
       "      <th>book_table</th>\n",
       "      <th>rate</th>\n",
       "      <th>votes</th>\n",
       "      <th>rest_type</th>\n",
       "      <th>dish_liked</th>\n",
       "      <th>cuisines</th>\n",
       "      <th>approx_costfor_two_people</th>\n",
       "      <th>listed_intype</th>\n",
       "      <th>listed_incity</th>\n",
       "    </tr>\n",
       "  </thead>\n",
       "  <tbody>\n",
       "    <tr>\n",
       "      <th>0</th>\n",
       "      <td>Yes</td>\n",
       "      <td>Yes</td>\n",
       "      <td>4.1/5</td>\n",
       "      <td>775</td>\n",
       "      <td>Casual Dining</td>\n",
       "      <td>Pasta, Lunch Buffet, Masala Papad, Paneer Laja...</td>\n",
       "      <td>North Indian, Mughlai, Chinese</td>\n",
       "      <td>800</td>\n",
       "      <td>Buffet</td>\n",
       "      <td>Banashankari</td>\n",
       "    </tr>\n",
       "    <tr>\n",
       "      <th>1</th>\n",
       "      <td>Yes</td>\n",
       "      <td>No</td>\n",
       "      <td>4.1/5</td>\n",
       "      <td>787</td>\n",
       "      <td>Casual Dining</td>\n",
       "      <td>Momos, Lunch Buffet, Chocolate Nirvana, Thai G...</td>\n",
       "      <td>Chinese, North Indian, Thai</td>\n",
       "      <td>800</td>\n",
       "      <td>Buffet</td>\n",
       "      <td>Banashankari</td>\n",
       "    </tr>\n",
       "    <tr>\n",
       "      <th>2</th>\n",
       "      <td>Yes</td>\n",
       "      <td>No</td>\n",
       "      <td>3.8/5</td>\n",
       "      <td>918</td>\n",
       "      <td>Cafe, Casual Dining</td>\n",
       "      <td>Churros, Cannelloni, Minestrone Soup, Hot Choc...</td>\n",
       "      <td>Cafe, Mexican, Italian</td>\n",
       "      <td>800</td>\n",
       "      <td>Buffet</td>\n",
       "      <td>Banashankari</td>\n",
       "    </tr>\n",
       "    <tr>\n",
       "      <th>3</th>\n",
       "      <td>No</td>\n",
       "      <td>No</td>\n",
       "      <td>3.7/5</td>\n",
       "      <td>88</td>\n",
       "      <td>Quick Bites</td>\n",
       "      <td>Masala Dosa</td>\n",
       "      <td>South Indian, North Indian</td>\n",
       "      <td>300</td>\n",
       "      <td>Buffet</td>\n",
       "      <td>Banashankari</td>\n",
       "    </tr>\n",
       "    <tr>\n",
       "      <th>4</th>\n",
       "      <td>No</td>\n",
       "      <td>No</td>\n",
       "      <td>3.8/5</td>\n",
       "      <td>166</td>\n",
       "      <td>Casual Dining</td>\n",
       "      <td>Panipuri, Gol Gappe</td>\n",
       "      <td>North Indian, Rajasthani</td>\n",
       "      <td>600</td>\n",
       "      <td>Buffet</td>\n",
       "      <td>Banashankari</td>\n",
       "    </tr>\n",
       "    <tr>\n",
       "      <th>...</th>\n",
       "      <td>...</td>\n",
       "      <td>...</td>\n",
       "      <td>...</td>\n",
       "      <td>...</td>\n",
       "      <td>...</td>\n",
       "      <td>...</td>\n",
       "      <td>...</td>\n",
       "      <td>...</td>\n",
       "      <td>...</td>\n",
       "      <td>...</td>\n",
       "    </tr>\n",
       "    <tr>\n",
       "      <th>51712</th>\n",
       "      <td>No</td>\n",
       "      <td>No</td>\n",
       "      <td>3.6 /5</td>\n",
       "      <td>27</td>\n",
       "      <td>Bar</td>\n",
       "      <td>NaN</td>\n",
       "      <td>Continental</td>\n",
       "      <td>1,500</td>\n",
       "      <td>Pubs and bars</td>\n",
       "      <td>Whitefield</td>\n",
       "    </tr>\n",
       "    <tr>\n",
       "      <th>51713</th>\n",
       "      <td>No</td>\n",
       "      <td>No</td>\n",
       "      <td>NaN</td>\n",
       "      <td>0</td>\n",
       "      <td>Bar</td>\n",
       "      <td>NaN</td>\n",
       "      <td>Finger Food</td>\n",
       "      <td>600</td>\n",
       "      <td>Pubs and bars</td>\n",
       "      <td>Whitefield</td>\n",
       "    </tr>\n",
       "    <tr>\n",
       "      <th>51714</th>\n",
       "      <td>No</td>\n",
       "      <td>No</td>\n",
       "      <td>NaN</td>\n",
       "      <td>0</td>\n",
       "      <td>Bar</td>\n",
       "      <td>NaN</td>\n",
       "      <td>Finger Food</td>\n",
       "      <td>2,000</td>\n",
       "      <td>Pubs and bars</td>\n",
       "      <td>Whitefield</td>\n",
       "    </tr>\n",
       "    <tr>\n",
       "      <th>51715</th>\n",
       "      <td>No</td>\n",
       "      <td>Yes</td>\n",
       "      <td>4.3 /5</td>\n",
       "      <td>236</td>\n",
       "      <td>Bar</td>\n",
       "      <td>Cocktails, Pizza, Buttermilk</td>\n",
       "      <td>Finger Food</td>\n",
       "      <td>2,500</td>\n",
       "      <td>Pubs and bars</td>\n",
       "      <td>Whitefield</td>\n",
       "    </tr>\n",
       "    <tr>\n",
       "      <th>51716</th>\n",
       "      <td>No</td>\n",
       "      <td>No</td>\n",
       "      <td>3.4 /5</td>\n",
       "      <td>13</td>\n",
       "      <td>Bar, Casual Dining</td>\n",
       "      <td>NaN</td>\n",
       "      <td>Finger Food, North Indian, Continental</td>\n",
       "      <td>1,500</td>\n",
       "      <td>Pubs and bars</td>\n",
       "      <td>Whitefield</td>\n",
       "    </tr>\n",
       "  </tbody>\n",
       "</table>\n",
       "<p>51717 rows × 10 columns</p>\n",
       "</div>"
      ],
      "text/plain": [
       "      online_order book_table    rate  votes            rest_type  \\\n",
       "0              Yes        Yes   4.1/5    775        Casual Dining   \n",
       "1              Yes         No   4.1/5    787        Casual Dining   \n",
       "2              Yes         No   3.8/5    918  Cafe, Casual Dining   \n",
       "3               No         No   3.7/5     88          Quick Bites   \n",
       "4               No         No   3.8/5    166        Casual Dining   \n",
       "...            ...        ...     ...    ...                  ...   \n",
       "51712           No         No  3.6 /5     27                  Bar   \n",
       "51713           No         No     NaN      0                  Bar   \n",
       "51714           No         No     NaN      0                  Bar   \n",
       "51715           No        Yes  4.3 /5    236                  Bar   \n",
       "51716           No         No  3.4 /5     13   Bar, Casual Dining   \n",
       "\n",
       "                                              dish_liked  \\\n",
       "0      Pasta, Lunch Buffet, Masala Papad, Paneer Laja...   \n",
       "1      Momos, Lunch Buffet, Chocolate Nirvana, Thai G...   \n",
       "2      Churros, Cannelloni, Minestrone Soup, Hot Choc...   \n",
       "3                                            Masala Dosa   \n",
       "4                                    Panipuri, Gol Gappe   \n",
       "...                                                  ...   \n",
       "51712                                                NaN   \n",
       "51713                                                NaN   \n",
       "51714                                                NaN   \n",
       "51715                       Cocktails, Pizza, Buttermilk   \n",
       "51716                                                NaN   \n",
       "\n",
       "                                     cuisines approx_costfor_two_people  \\\n",
       "0              North Indian, Mughlai, Chinese                       800   \n",
       "1                 Chinese, North Indian, Thai                       800   \n",
       "2                      Cafe, Mexican, Italian                       800   \n",
       "3                  South Indian, North Indian                       300   \n",
       "4                    North Indian, Rajasthani                       600   \n",
       "...                                       ...                       ...   \n",
       "51712                             Continental                     1,500   \n",
       "51713                             Finger Food                       600   \n",
       "51714                             Finger Food                     2,000   \n",
       "51715                             Finger Food                     2,500   \n",
       "51716  Finger Food, North Indian, Continental                     1,500   \n",
       "\n",
       "       listed_intype listed_incity  \n",
       "0             Buffet  Banashankari  \n",
       "1             Buffet  Banashankari  \n",
       "2             Buffet  Banashankari  \n",
       "3             Buffet  Banashankari  \n",
       "4             Buffet  Banashankari  \n",
       "...              ...           ...  \n",
       "51712  Pubs and bars    Whitefield  \n",
       "51713  Pubs and bars    Whitefield  \n",
       "51714  Pubs and bars    Whitefield  \n",
       "51715  Pubs and bars    Whitefield  \n",
       "51716  Pubs and bars    Whitefield  \n",
       "\n",
       "[51717 rows x 10 columns]"
      ]
     },
     "execution_count": 3,
     "metadata": {},
     "output_type": "execute_result"
    }
   ],
   "source": [
    "df"
   ]
  },
  {
   "cell_type": "code",
   "execution_count": 7,
   "id": "d01eebd5-48dd-4971-b6bc-6a48288ab47c",
   "metadata": {},
   "outputs": [],
   "source": [
    "df['rate'] = df['rate'].replace('-', np.nan)"
   ]
  },
  {
   "cell_type": "code",
   "execution_count": 9,
   "id": "ee34d5ff-7e20-411c-bbc0-1e2396f48cdc",
   "metadata": {},
   "outputs": [],
   "source": [
    "# Remove '/5' and strip any extra spaces\n",
    "df['rate'] = df['rate'].str.replace('/5', '', regex=False).str.strip()\n",
    "\n",
    "# Optionally, convert the column to numeric\n",
    "df['rate'] = pd.to_numeric(df['rate'], errors='coerce')\n"
   ]
  },
  {
   "cell_type": "code",
   "execution_count": 11,
   "id": "ac95fd21-bbef-4b35-b90a-3ce8f108dce8",
   "metadata": {},
   "outputs": [],
   "source": [
    "# Calculate median of the 'Rating' column (excluding NaNs)\n",
    "median_rating = df['rate'].median()\n",
    "\n",
    "# Fill NaN values with the median\n",
    "df['rate'] = df['rate'].fillna(median_rating)\n"
   ]
  },
  {
   "cell_type": "code",
   "execution_count": 12,
   "id": "2d790c27-91b3-4702-b280-8f6eb292cbe8",
   "metadata": {},
   "outputs": [],
   "source": [
    "# Remove commas from the column\n",
    "df['approx_costfor_two_people'] = df['approx_costfor_two_people'].str.replace(',', '', regex=False)\n",
    "\n",
    "# Convert to float (or int if preferred)\n",
    "df['approx_costfor_two_people'] = pd.to_numeric(df['approx_costfor_two_people'], errors='coerce')\n"
   ]
  },
  {
   "cell_type": "code",
   "execution_count": 13,
   "id": "34b9522a-f943-4598-8b09-0fe743f45b29",
   "metadata": {},
   "outputs": [],
   "source": [
    "# Calculate the median cost (excluding NaNs)\n",
    "median_cost = df['approx_costfor_two_people'].median()\n",
    "\n",
    "# Fill NaNs with the median cost\n",
    "df['approx_costfor_two_people'] = df['approx_costfor_two_people'].fillna(median_cost)\n"
   ]
  },
  {
   "cell_type": "code",
   "execution_count": 14,
   "id": "8ed3d5c9-23a3-4d26-bf73-1b3287981990",
   "metadata": {},
   "outputs": [],
   "source": [
    "# Replace NaN in 'dish_liked' with \"Not Available\"\n",
    "df['dish_liked'] = df['dish_liked'].fillna('Not Available')\n",
    "\n",
    "# Replace NaN in 'cuisines' with \"Other\"\n",
    "df['cuisines'] = df['cuisines'].fillna('Other')\n",
    "\n",
    "# Replace NaN in 'rest_type' with \"Unknown\"\n",
    "df['rest_type'] = df['rest_type'].fillna('Unknown')\n"
   ]
  },
  {
   "cell_type": "code",
   "execution_count": 16,
   "id": "e4d2e35e-cf57-43d1-8694-74761a6ac967",
   "metadata": {},
   "outputs": [],
   "source": [
    "median_cost = df['votes'].median()\n",
    "df['votes'] = df['votes'].fillna(median_cost)\n"
   ]
  },
  {
   "cell_type": "markdown",
   "id": "df7e8342-2d73-40fc-9995-b6d51a0d309b",
   "metadata": {},
   "source": [
    "# Step 5: Binary Encoding\n",
    "## Convert the following binary fields:\n",
    "## Column\n",
    "## Mapping\n",
    "## online_order\n",
    "## Yes → 1, No → 0\n",
    "## book_table\n",
    "## Yes → 1, No → 0\n",
    "\n"
   ]
  },
  {
   "cell_type": "code",
   "execution_count": 17,
   "id": "048efddf-7115-470d-9321-dec307dbed84",
   "metadata": {},
   "outputs": [],
   "source": [
    "# Binary encode 'online_order' column\n",
    "df['online_order'] = df['online_order'].map({'Yes': 1, 'No': 0})\n",
    "\n",
    "# Binary encode 'book_table' column\n",
    "df['book_table'] = df['book_table'].map({'Yes': 1, 'No': 0})\n"
   ]
  },
  {
   "cell_type": "code",
   "execution_count": 18,
   "id": "b7d0c1f4-007d-407c-bdb4-91da79868166",
   "metadata": {},
   "outputs": [],
   "source": [
    "# Convert 'rate' to float\n",
    "df['rate'] = df['rate'].astype(float)\n",
    "\n",
    "# Convert 'votes' to integer\n",
    "df['votes'] = pd.to_numeric(df['votes'], errors='coerce').fillna(0).astype(int)\n",
    "\n",
    "# Convert 'approx_costfor_two_people' to integer\n",
    "df['approx_costfor_two_people'] = df['approx_costfor_two_people'].astype(int)\n"
   ]
  },
  {
   "cell_type": "code",
   "execution_count": 19,
   "id": "64f6cdcd-d23d-43cd-b9ed-8c655a7acbf8",
   "metadata": {},
   "outputs": [
    {
     "data": {
      "text/plain": [
       "online_order                 0\n",
       "book_table                   0\n",
       "rate                         0\n",
       "votes                        0\n",
       "rest_type                    0\n",
       "dish_liked                   0\n",
       "cuisines                     0\n",
       "approx_costfor_two_people    0\n",
       "listed_intype                0\n",
       "listed_incity                0\n",
       "dtype: int64"
      ]
     },
     "execution_count": 19,
     "metadata": {},
     "output_type": "execute_result"
    }
   ],
   "source": [
    "df.isnull().sum()"
   ]
  },
  {
   "cell_type": "code",
   "execution_count": 20,
   "id": "3f5ee444-1024-4901-a0d3-2cb61b3fb9fa",
   "metadata": {},
   "outputs": [
    {
     "data": {
      "text/plain": [
       "(51717, 10)"
      ]
     },
     "execution_count": 20,
     "metadata": {},
     "output_type": "execute_result"
    }
   ],
   "source": [
    "df.shape"
   ]
  },
  {
   "cell_type": "code",
   "execution_count": 21,
   "id": "f14a64db-a94f-4998-85f0-a150b359b126",
   "metadata": {},
   "outputs": [
    {
     "name": "stdout",
     "output_type": "stream",
     "text": [
      "Number of restaurants serving North Indian cuisine: 21085\n"
     ]
    }
   ],
   "source": [
    "#How many restaurants serve North Indian cuisine?\n",
    "\n",
    "# Count how many restaurants serve North Indian cuisine\n",
    "north_indian_count = df[df['cuisines'].str.contains('North Indian', case=False, na=False)].shape[0]\n",
    "\n",
    "# Display the result\n",
    "print(f\"Number of restaurants serving North Indian cuisine: {north_indian_count}\")\n",
    "\n"
   ]
  },
  {
   "cell_type": "code",
   "execution_count": 26,
   "id": "060947df-1fe4-4810-ac53-62e839c986e9",
   "metadata": {},
   "outputs": [
    {
     "name": "stdout",
     "output_type": "stream",
     "text": [
      "No restaurants found in Bangalore with valid cuisine data.\n"
     ]
    }
   ],
   "source": [
    "# Filter the dataset for Bangalore\n",
    "bangalore_restaurants = df[df['listed_incity'] == 'Bangalore']\n",
    "\n",
    "# Remove rows where 'cuisines' is missing\n",
    "bangalore_restaurants = bangalore_restaurants[bangalore_restaurants['cuisines'].notna()]\n",
    "\n",
    "# Count the most common cuisine in the 'cuisines' column\n",
    "if not bangalore_restaurants.empty:\n",
    "    most_common_cuisine = bangalore_restaurants['cuisines'].value_counts().idxmax()\n",
    "    print(f\"The most commonly offered cuisine by restaurants in Bangalore is: {most_common_cuisine}\")\n",
    "else:\n",
    "    print(\"No restaurants found in Bangalore with valid cuisine data.\")\n"
   ]
  },
  {
   "cell_type": "code",
   "execution_count": 25,
   "id": "a6376f5f-a911-432f-ab54-4b69b0992f91",
   "metadata": {},
   "outputs": [
    {
     "data": {
      "text/html": [
       "<div>\n",
       "<style scoped>\n",
       "    .dataframe tbody tr th:only-of-type {\n",
       "        vertical-align: middle;\n",
       "    }\n",
       "\n",
       "    .dataframe tbody tr th {\n",
       "        vertical-align: top;\n",
       "    }\n",
       "\n",
       "    .dataframe thead th {\n",
       "        text-align: right;\n",
       "    }\n",
       "</style>\n",
       "<table border=\"1\" class=\"dataframe\">\n",
       "  <thead>\n",
       "    <tr style=\"text-align: right;\">\n",
       "      <th></th>\n",
       "      <th>online_order</th>\n",
       "      <th>book_table</th>\n",
       "      <th>rate</th>\n",
       "      <th>votes</th>\n",
       "      <th>rest_type</th>\n",
       "      <th>dish_liked</th>\n",
       "      <th>cuisines</th>\n",
       "      <th>approx_costfor_two_people</th>\n",
       "      <th>listed_intype</th>\n",
       "      <th>listed_incity</th>\n",
       "    </tr>\n",
       "  </thead>\n",
       "  <tbody>\n",
       "    <tr>\n",
       "      <th>0</th>\n",
       "      <td>1</td>\n",
       "      <td>1</td>\n",
       "      <td>4.1</td>\n",
       "      <td>775</td>\n",
       "      <td>Casual Dining</td>\n",
       "      <td>Pasta, Lunch Buffet, Masala Papad, Paneer Laja...</td>\n",
       "      <td>North Indian, Mughlai, Chinese</td>\n",
       "      <td>800</td>\n",
       "      <td>Buffet</td>\n",
       "      <td>Banashankari</td>\n",
       "    </tr>\n",
       "    <tr>\n",
       "      <th>1</th>\n",
       "      <td>1</td>\n",
       "      <td>0</td>\n",
       "      <td>4.1</td>\n",
       "      <td>787</td>\n",
       "      <td>Casual Dining</td>\n",
       "      <td>Momos, Lunch Buffet, Chocolate Nirvana, Thai G...</td>\n",
       "      <td>Chinese, North Indian, Thai</td>\n",
       "      <td>800</td>\n",
       "      <td>Buffet</td>\n",
       "      <td>Banashankari</td>\n",
       "    </tr>\n",
       "    <tr>\n",
       "      <th>2</th>\n",
       "      <td>1</td>\n",
       "      <td>0</td>\n",
       "      <td>3.8</td>\n",
       "      <td>918</td>\n",
       "      <td>Cafe, Casual Dining</td>\n",
       "      <td>Churros, Cannelloni, Minestrone Soup, Hot Choc...</td>\n",
       "      <td>Cafe, Mexican, Italian</td>\n",
       "      <td>800</td>\n",
       "      <td>Buffet</td>\n",
       "      <td>Banashankari</td>\n",
       "    </tr>\n",
       "    <tr>\n",
       "      <th>3</th>\n",
       "      <td>0</td>\n",
       "      <td>0</td>\n",
       "      <td>3.7</td>\n",
       "      <td>88</td>\n",
       "      <td>Quick Bites</td>\n",
       "      <td>Masala Dosa</td>\n",
       "      <td>South Indian, North Indian</td>\n",
       "      <td>300</td>\n",
       "      <td>Buffet</td>\n",
       "      <td>Banashankari</td>\n",
       "    </tr>\n",
       "    <tr>\n",
       "      <th>4</th>\n",
       "      <td>0</td>\n",
       "      <td>0</td>\n",
       "      <td>3.8</td>\n",
       "      <td>166</td>\n",
       "      <td>Casual Dining</td>\n",
       "      <td>Panipuri, Gol Gappe</td>\n",
       "      <td>North Indian, Rajasthani</td>\n",
       "      <td>600</td>\n",
       "      <td>Buffet</td>\n",
       "      <td>Banashankari</td>\n",
       "    </tr>\n",
       "  </tbody>\n",
       "</table>\n",
       "</div>"
      ],
      "text/plain": [
       "   online_order  book_table  rate  votes            rest_type  \\\n",
       "0             1           1   4.1    775        Casual Dining   \n",
       "1             1           0   4.1    787        Casual Dining   \n",
       "2             1           0   3.8    918  Cafe, Casual Dining   \n",
       "3             0           0   3.7     88          Quick Bites   \n",
       "4             0           0   3.8    166        Casual Dining   \n",
       "\n",
       "                                          dish_liked  \\\n",
       "0  Pasta, Lunch Buffet, Masala Papad, Paneer Laja...   \n",
       "1  Momos, Lunch Buffet, Chocolate Nirvana, Thai G...   \n",
       "2  Churros, Cannelloni, Minestrone Soup, Hot Choc...   \n",
       "3                                        Masala Dosa   \n",
       "4                                Panipuri, Gol Gappe   \n",
       "\n",
       "                         cuisines  approx_costfor_two_people listed_intype  \\\n",
       "0  North Indian, Mughlai, Chinese                        800        Buffet   \n",
       "1     Chinese, North Indian, Thai                        800        Buffet   \n",
       "2          Cafe, Mexican, Italian                        800        Buffet   \n",
       "3      South Indian, North Indian                        300        Buffet   \n",
       "4        North Indian, Rajasthani                        600        Buffet   \n",
       "\n",
       "  listed_incity  \n",
       "0  Banashankari  \n",
       "1  Banashankari  \n",
       "2  Banashankari  \n",
       "3  Banashankari  \n",
       "4  Banashankari  "
      ]
     },
     "execution_count": 25,
     "metadata": {},
     "output_type": "execute_result"
    }
   ],
   "source": [
    "df.head()"
   ]
  },
  {
   "cell_type": "code",
   "execution_count": 29,
   "id": "a75d8d36-4e94-4b45-b5b0-50b1f3885013",
   "metadata": {},
   "outputs": [
    {
     "name": "stdout",
     "output_type": "stream",
     "text": [
      "The locality with the highest average cost for dining (for two people) is Church Street with an average cost of ₹770.3612479474549\n"
     ]
    }
   ],
   "source": [
    "#Which locality in Bangalore has the highest average cost for dining (for two people)?\n",
    "\n",
    "\n",
    "average_cost_by_locality = df.groupby('listed_incity')['approx_costfor_two_people'].mean()\n",
    "\n",
    "# Find the locality with the highest average cost\n",
    "highest_avg_cost_locality = average_cost_by_locality.idxmax()\n",
    "highest_avg_cost_value = average_cost_by_locality.max()\n",
    "\n",
    "print(f\"The locality with the highest average cost for dining (for two people) is {highest_avg_cost_locality} with an average cost of ₹{highest_avg_cost_value}\")"
   ]
  },
  {
   "cell_type": "code",
   "execution_count": 32,
   "id": "61e33b05-f42a-403b-8eb9-b5b08eb8a984",
   "metadata": {},
   "outputs": [
    {
     "name": "stdout",
     "output_type": "stream",
     "text": [
      "The most commonly offered cuisine in Bangalore is ' Chinese' with 12481 occurrences.\n"
     ]
    }
   ],
   "source": [
    "#What cuisine is most commonly offered by restaurants in Bangalore?\n",
    "\n",
    "cuisines_series = df['cuisines'].str.split(',', expand=True).stack()\n",
    "\n",
    "# Get the most common cuisine\n",
    "most_common_cuisine = cuisines_series.value_counts().idxmax()\n",
    "most_common_cuisine_count = cuisines_series.value_counts().max()\n",
    "\n",
    "# Output the result\n",
    "print(f\"The most commonly offered cuisine in Bangalore is '{most_common_cuisine}' with {most_common_cuisine_count} occurrences.\")"
   ]
  },
  {
   "cell_type": "code",
   "execution_count": 33,
   "id": "f7d1b942-15eb-4354-9bce-ab84887999d5",
   "metadata": {},
   "outputs": [
    {
     "name": "stdout",
     "output_type": "stream",
     "text": [
      "The restaurant type with the top rating and over 1000 votes is 'Microbrewery' with a rating of 4.9.\n"
     ]
    }
   ],
   "source": [
    "# Which restaurant type has the top rating with over 1000 votes?\n",
    "\n",
    "\n",
    "df_filtered = df[df['votes'] > 1000]\n",
    "\n",
    "# Find the restaurant type with the highest rating\n",
    "top_rest_type = df_filtered.loc[df_filtered['rate'].idxmax()]\n",
    "\n",
    "# Output the result\n",
    "print(f\"The restaurant type with the top rating and over 1000 votes is '{top_rest_type['rest_type']}' with a rating of {top_rest_type['rate']}.\")"
   ]
  },
  {
   "cell_type": "code",
   "execution_count": 38,
   "id": "ef0aceae-9f01-4e84-901a-c2c1c481cbff",
   "metadata": {},
   "outputs": [
    {
     "name": "stdout",
     "output_type": "stream",
     "text": [
      "The minimum cost for two people to eat out in Bangalore is ₹40.\n"
     ]
    }
   ],
   "source": [
    "#How much does it cost at minimum to eat out in Bangalore?\n",
    "min_cost_for_two = df['approx_costfor_two_people'].min()\n",
    "min_cost_for_two\n",
    "print(f\"The minimum cost for two people to eat out in Bangalore is ₹{min_cost_for_two}.\")"
   ]
  },
  {
   "cell_type": "code",
   "execution_count": 41,
   "id": "0280bd7d-a3e7-44a3-88f7-7b40144c3a7d",
   "metadata": {},
   "outputs": [
    {
     "name": "stdout",
     "output_type": "stream",
     "text": [
      "The percentage of total online orders received by restaurants in Banashankari is 1.79%.\n"
     ]
    }
   ],
   "source": [
    "#What percentage of total online orders is received by restaurants in Banashankari?\n",
    "total_online_orders = df['online_order'].sum()\n",
    "banashankari_orders = df[df['listed_incity'] == 'Banashankari']['online_order'].sum()\n",
    "percentage_orders_banashankari = (banashankari_orders / total_online_orders) * 100\n",
    "print(f\"The percentage of total online orders received by restaurants in Banashankari is {percentage_orders_banashankari:.2f}%.\")"
   ]
  },
  {
   "cell_type": "code",
   "execution_count": 42,
   "id": "7cb66fd5-248c-406e-9650-c6512affb504",
   "metadata": {},
   "outputs": [
    {
     "name": "stdout",
     "output_type": "stream",
     "text": [
      "The locality with the most restaurants having over 500 votes and a rating below 3.0 is Brookefield.\n"
     ]
    }
   ],
   "source": [
    "#Which locality has the most restaurants with over 500 votes and a rating below 3.0?\n",
    "filtered_df = df[(df['votes'] > 500) & (df['rate'] < 3.0)]\n",
    "locality_count = filtered_df['listed_incity'].value_counts()\n",
    "most_restaurants_locality = locality_count.idxmax()\n",
    "print(f\"The locality with the most restaurants having over 500 votes and a rating below 3.0 is {most_restaurants_locality}.\")"
   ]
  },
  {
   "cell_type": "code",
   "execution_count": 43,
   "id": "312df69a-941c-4843-b0a8-8ec8ff9f0be1",
   "metadata": {},
   "outputs": [
    {
     "name": "stdout",
     "output_type": "stream",
     "text": [
      "Zomato should target **BTM** for expansion, as it has the highest restaurant type diversity (62 unique types).\n"
     ]
    }
   ],
   "source": [
    "# Which locality in Bangalore should Zomato target for expansion based on restaurant type diversity?\n",
    "\n",
    "locality_diversity = df.groupby('listed_incity')['rest_type'].nunique()\n",
    "top_locality = locality_diversity.idxmax()\n",
    "num_types = locality_diversity.max()\n",
    "print(f\"Zomato should target **{top_locality}** for expansion, as it has the highest restaurant type diversity ({num_types} unique types).\")"
   ]
  },
  {
   "cell_type": "code",
   "execution_count": 44,
   "id": "b442523e-0bfa-47a6-ba2f-e09cb71dd90b",
   "metadata": {},
   "outputs": [
    {
     "name": "stdout",
     "output_type": "stream",
     "text": [
      "Average cost for Buffet restaurants: ₹1295.35\n",
      "Average cost for Delivery restaurants: ₹464.10\n",
      "Average cost difference: ₹831.25\n"
     ]
    }
   ],
   "source": [
    "#What's the average cost difference between buffet and delivery restaurants?\n",
    "\n",
    "df['approx_costfor_two_people'] = df['approx_costfor_two_people'].astype(str).str.replace(',', '').astype(float)\n",
    "buffet_df = df[df['listed_intype'].str.contains('Buffet', case=False, na=False)]\n",
    "delivery_df = df[df['listed_intype'].str.contains('Delivery', case=False, na=False)]\n",
    "# Calculate average cost\n",
    "avg_buffet = buffet_df['approx_costfor_two_people'].mean()\n",
    "avg_delivery = delivery_df['approx_costfor_two_people'].mean()\n",
    "cost_difference = avg_buffet - avg_delivery\n",
    "print(f\"Average cost for Buffet restaurants: ₹{avg_buffet:.2f}\")\n",
    "print(f\"Average cost for Delivery restaurants: ₹{avg_delivery:.2f}\")\n",
    "print(f\"Average cost difference: ₹{cost_difference:.2f}\")"
   ]
  },
  {
   "cell_type": "code",
   "execution_count": 48,
   "id": "7a07698f-6628-4c3f-865f-f7c13611c59e",
   "metadata": {},
   "outputs": [
    {
     "data": {
      "text/plain": [
       "16832"
      ]
     },
     "execution_count": 48,
     "metadata": {},
     "output_type": "execute_result"
    }
   ],
   "source": [
    "#What is the maximum number of votes received by any restaurant with online ordering?\n",
    "\n",
    "max_no_votes = df['votes'].max()\n",
    "max_no_votes "
   ]
  },
  {
   "cell_type": "code",
   "execution_count": 47,
   "id": "9772e713-1cd7-4f50-9da8-30479fe8963b",
   "metadata": {},
   "outputs": [
    {
     "name": "stdout",
     "output_type": "stream",
     "text": [
      "The maximum number of votes received by any restaurant with online ordering is: 16832\n"
     ]
    }
   ],
   "source": [
    "online_order_df = df[df['online_order'] == 1]\n",
    "max_votes = online_order_df['votes'].max()\n",
    "print(f\"The maximum number of votes received by any restaurant with online ordering is: {max_votes}\")\n"
   ]
  },
  {
   "cell_type": "code",
   "execution_count": 51,
   "id": "31ba5044-68e3-451c-86a7-7ea59f81f223",
   "metadata": {},
   "outputs": [
    {
     "name": "stdout",
     "output_type": "stream",
     "text": [
      "The average rating of restaurants that serve both North Indian and Chinese cuisines is: 3.59\n"
     ]
    }
   ],
   "source": [
    "#What is the average rating of restaurants that serve both North Indian and Chinese cuisines?\n",
    "both_cuisines_df = df[df['cuisines'].str.contains('North Indian', case=False, na=False) & \n",
    "                      df['cuisines'].str.contains('Chinese', case=False, na=False)]\n",
    "avg_rating = both_cuisines_df['rate'].mean()\n",
    "print(f\"The average rating of restaurants that serve both North Indian and Chinese cuisines is: {avg_rating:.2f}\")"
   ]
  },
  {
   "cell_type": "code",
   "execution_count": 49,
   "id": "af6aabe5-dcc4-426d-be91-2a4c5de2db53",
   "metadata": {},
   "outputs": [
    {
     "data": {
      "text/html": [
       "<div>\n",
       "<style scoped>\n",
       "    .dataframe tbody tr th:only-of-type {\n",
       "        vertical-align: middle;\n",
       "    }\n",
       "\n",
       "    .dataframe tbody tr th {\n",
       "        vertical-align: top;\n",
       "    }\n",
       "\n",
       "    .dataframe thead th {\n",
       "        text-align: right;\n",
       "    }\n",
       "</style>\n",
       "<table border=\"1\" class=\"dataframe\">\n",
       "  <thead>\n",
       "    <tr style=\"text-align: right;\">\n",
       "      <th></th>\n",
       "      <th>online_order</th>\n",
       "      <th>book_table</th>\n",
       "      <th>rate</th>\n",
       "      <th>votes</th>\n",
       "      <th>rest_type</th>\n",
       "      <th>dish_liked</th>\n",
       "      <th>cuisines</th>\n",
       "      <th>approx_costfor_two_people</th>\n",
       "      <th>listed_intype</th>\n",
       "      <th>listed_incity</th>\n",
       "    </tr>\n",
       "  </thead>\n",
       "  <tbody>\n",
       "    <tr>\n",
       "      <th>0</th>\n",
       "      <td>1</td>\n",
       "      <td>1</td>\n",
       "      <td>4.1</td>\n",
       "      <td>775</td>\n",
       "      <td>Casual Dining</td>\n",
       "      <td>Pasta, Lunch Buffet, Masala Papad, Paneer Laja...</td>\n",
       "      <td>North Indian, Mughlai, Chinese</td>\n",
       "      <td>800.0</td>\n",
       "      <td>Buffet</td>\n",
       "      <td>Banashankari</td>\n",
       "    </tr>\n",
       "    <tr>\n",
       "      <th>1</th>\n",
       "      <td>1</td>\n",
       "      <td>0</td>\n",
       "      <td>4.1</td>\n",
       "      <td>787</td>\n",
       "      <td>Casual Dining</td>\n",
       "      <td>Momos, Lunch Buffet, Chocolate Nirvana, Thai G...</td>\n",
       "      <td>Chinese, North Indian, Thai</td>\n",
       "      <td>800.0</td>\n",
       "      <td>Buffet</td>\n",
       "      <td>Banashankari</td>\n",
       "    </tr>\n",
       "    <tr>\n",
       "      <th>2</th>\n",
       "      <td>1</td>\n",
       "      <td>0</td>\n",
       "      <td>3.8</td>\n",
       "      <td>918</td>\n",
       "      <td>Cafe, Casual Dining</td>\n",
       "      <td>Churros, Cannelloni, Minestrone Soup, Hot Choc...</td>\n",
       "      <td>Cafe, Mexican, Italian</td>\n",
       "      <td>800.0</td>\n",
       "      <td>Buffet</td>\n",
       "      <td>Banashankari</td>\n",
       "    </tr>\n",
       "    <tr>\n",
       "      <th>3</th>\n",
       "      <td>0</td>\n",
       "      <td>0</td>\n",
       "      <td>3.7</td>\n",
       "      <td>88</td>\n",
       "      <td>Quick Bites</td>\n",
       "      <td>Masala Dosa</td>\n",
       "      <td>South Indian, North Indian</td>\n",
       "      <td>300.0</td>\n",
       "      <td>Buffet</td>\n",
       "      <td>Banashankari</td>\n",
       "    </tr>\n",
       "    <tr>\n",
       "      <th>4</th>\n",
       "      <td>0</td>\n",
       "      <td>0</td>\n",
       "      <td>3.8</td>\n",
       "      <td>166</td>\n",
       "      <td>Casual Dining</td>\n",
       "      <td>Panipuri, Gol Gappe</td>\n",
       "      <td>North Indian, Rajasthani</td>\n",
       "      <td>600.0</td>\n",
       "      <td>Buffet</td>\n",
       "      <td>Banashankari</td>\n",
       "    </tr>\n",
       "  </tbody>\n",
       "</table>\n",
       "</div>"
      ],
      "text/plain": [
       "   online_order  book_table  rate  votes            rest_type  \\\n",
       "0             1           1   4.1    775        Casual Dining   \n",
       "1             1           0   4.1    787        Casual Dining   \n",
       "2             1           0   3.8    918  Cafe, Casual Dining   \n",
       "3             0           0   3.7     88          Quick Bites   \n",
       "4             0           0   3.8    166        Casual Dining   \n",
       "\n",
       "                                          dish_liked  \\\n",
       "0  Pasta, Lunch Buffet, Masala Papad, Paneer Laja...   \n",
       "1  Momos, Lunch Buffet, Chocolate Nirvana, Thai G...   \n",
       "2  Churros, Cannelloni, Minestrone Soup, Hot Choc...   \n",
       "3                                        Masala Dosa   \n",
       "4                                Panipuri, Gol Gappe   \n",
       "\n",
       "                         cuisines  approx_costfor_two_people listed_intype  \\\n",
       "0  North Indian, Mughlai, Chinese                      800.0        Buffet   \n",
       "1     Chinese, North Indian, Thai                      800.0        Buffet   \n",
       "2          Cafe, Mexican, Italian                      800.0        Buffet   \n",
       "3      South Indian, North Indian                      300.0        Buffet   \n",
       "4        North Indian, Rajasthani                      600.0        Buffet   \n",
       "\n",
       "  listed_incity  \n",
       "0  Banashankari  \n",
       "1  Banashankari  \n",
       "2  Banashankari  \n",
       "3  Banashankari  \n",
       "4  Banashankari  "
      ]
     },
     "execution_count": 49,
     "metadata": {},
     "output_type": "execute_result"
    }
   ],
   "source": [
    "df.head()"
   ]
  },
  {
   "cell_type": "code",
   "execution_count": 53,
   "id": "f70a63a4-c16c-48e7-99d4-7089853f6fb3",
   "metadata": {},
   "outputs": [
    {
     "name": "stdout",
     "output_type": "stream",
     "text": [
      "The most profitable area for Zomato based on potential revenue estimation is **Koramangala 7th Block** with an estimated value of ₹553,749,719.\n"
     ]
    }
   ],
   "source": [
    "#What is the most profitable area for Zomato based on potential revenue estimation?\n",
    "\n",
    "#HINT: strike rate = (Total Runs / Total Balls Faced) * 100\n",
    "\n",
    "df = df.dropna(subset=['listed_incity', 'votes', 'approx_costfor_two_people'])\n",
    "# Group by locality and calculate:\n",
    "# - Total Votes\n",
    "# - Average Cost\n",
    "# - Estimated Revenue\n",
    "locality_revenue = df.groupby('listed_incity').agg({\n",
    "    'votes': 'sum',\n",
    "    'approx_costfor_two_people': 'mean'\n",
    "})\n",
    "# Create estimated revenue column\n",
    "locality_revenue['estimated_revenue'] = locality_revenue['votes'] * locality_revenue['approx_costfor_two_people']\n",
    "# Find the locality with highest estimated revenue\n",
    "top_area = locality_revenue['estimated_revenue'].idxmax()\n",
    "top_revenue = locality_revenue['estimated_revenue'].max()\n",
    "\n",
    "print(f\"The most profitable area for Zomato based on potential revenue estimation is **{top_area}** with an estimated value of ₹{top_revenue:,.0f}.\")"
   ]
  },
  {
   "cell_type": "code",
   "execution_count": 55,
   "id": "b9064c6c-1f82-4abf-b500-8074da889a67",
   "metadata": {},
   "outputs": [
    {
     "name": "stdout",
     "output_type": "stream",
     "text": [
      "Zomato should focus on **Unknown** restaurants, which have an average rating of 3.40 from 15033 votes — indicating a high potential for customer complaints.\n"
     ]
    }
   ],
   "source": [
    "#If Zomato wants to reduce customer complaints, which restaurant type should they focus on?\n",
    "\n",
    " #Group by restaurant type and calculate:\n",
    "# - Average rating\n",
    "# - Total votes\n",
    "rest_type_summary = df.groupby('rest_type').agg({\n",
    "    'rate': 'mean',\n",
    "    'votes': 'sum'\n",
    "}).reset_index()\n",
    "\n",
    "# Filter restaurant types with average rating < 3.5\n",
    "low_rated = rest_type_summary[rest_type_summary['rate'] < 3.5]\n",
    "\n",
    "# Sort by total votes to identify high-impact low-rated types\n",
    "focus_types = low_rated.sort_values(by='votes', ascending=False)\n",
    "\n",
    "# Top type to focus on\n",
    "top_type = focus_types.iloc[0]\n",
    "\n",
    "print(f\"Zomato should focus on **{top_type['rest_type']}** restaurants, which have an average rating of {top_type['rate']:.2f} from {int(top_type['votes'])} votes — indicating a high potential for customer complaints.\")\n"
   ]
  },
  {
   "cell_type": "code",
   "execution_count": 57,
   "id": "44649c04-5859-4e48-a311-aa71db8c765e",
   "metadata": {},
   "outputs": [
    {
     "name": "stdout",
     "output_type": "stream",
     "text": [
      "Zomato should invest in **Koramangala 7th Block**, which has 97 high-rated, high-voted restaurants that support online orders.\n"
     ]
    }
   ],
   "source": [
    "#In which area should Zomato invest by considering high rating (rate > 4.2), high number of votes (> 500) and including online orders?\n",
    "\n",
    "\n",
    "# Drop rows with missing critical info\n",
    "df = df.dropna(subset=['rate', 'votes', 'online_order', 'listed_incity'])\n",
    "\n",
    "# Filter rows based on criteria\n",
    "filtered_df = df[\n",
    "    (df['rate'] > 4.2) &\n",
    "    (df['votes'] > 500) &\n",
    "    (df['online_order'] == 1)\n",
    "]\n",
    "\n",
    "# Group by area and count number of such high-performing restaurants\n",
    "top_areas = filtered_df['listed_incity'].value_counts().reset_index()\n",
    "top_areas.columns = ['Area', 'High_Performing_Restaurants']\n",
    "\n",
    "# Display top area\n",
    "top_area = top_areas.iloc[0]\n",
    "print(f\"Zomato should invest in **{top_area['Area']}**, which has {top_area['High_Performing_Restaurants']} high-rated, high-voted restaurants that support online orders.\")"
   ]
  },
  {
   "cell_type": "code",
   "execution_count": null,
   "id": "665b46f7-ec0b-4900-b955-05031bdb8d1e",
   "metadata": {},
   "outputs": [],
   "source": []
  }
 ],
 "metadata": {
  "kernelspec": {
   "display_name": "Python 3 (ipykernel)",
   "language": "python",
   "name": "python3"
  },
  "language_info": {
   "codemirror_mode": {
    "name": "ipython",
    "version": 3
   },
   "file_extension": ".py",
   "mimetype": "text/x-python",
   "name": "python",
   "nbconvert_exporter": "python",
   "pygments_lexer": "ipython3",
   "version": "3.12.4"
  }
 },
 "nbformat": 4,
 "nbformat_minor": 5
}
